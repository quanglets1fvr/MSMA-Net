{
  "cells": [
    {
      "cell_type": "code",
      "execution_count": null,
      "metadata": {
        "id": "9gzbme__eGzF"
      },
      "outputs": [],
      "source": [
        "%%shell\n",
        "# Installs the latest dev build of TVM from PyPI. If you wish to build\n",
        "# from source, see https://tvm.apache.org/docs/install/from_source.html\n",
        "pip install apache-tvm --pre"
      ]
    },
    {
      "cell_type": "markdown",
      "metadata": {
        "id": "7_NaU6w4eGzI"
      },
      "source": [
        "\n",
        "# Getting Starting using TVMC Python: a high-level API for TVM\n",
        "**Author**:\n",
        "[Jocelyn Shiue](https://github.com/CircleSpin)\n",
        "\n",
        "Hi! Here we explain the scripting tool designed for the complete TVM beginner. 🙂\n",
        "\n",
        "Before we get started let's get an example model if you don't already have one.\n",
        "Follow the steps to download a resnet model via the terminal:\n",
        "\n",
        "```python\n",
        "mkdir myscripts\n",
        "cd myscripts\n",
        "wget https://github.com/onnx/models/raw/b9a54e89508f101a1611cd64f4ef56b9cb62c7cf/vision/classification/resnet/model/resnet50-v2-7.onnx\n",
        "mv resnet50-v2-7.onnx my_model.onnx\n",
        "touch tvmcpythonintro.py\n",
        "```\n",
        "Let's start editing the python file in your favorite text editor.\n"
      ]
    },
    {
      "cell_type": "markdown",
      "metadata": {
        "id": "bxkzojtNeGzL"
      },
      "source": [
        "## Step 0: Imports\n",
        "\n",
        "```python\n",
        "from tvm.driver import tvmc\n",
        "```\n"
      ]
    },
    {
      "cell_type": "markdown",
      "metadata": {
        "id": "2Wc6n1SqeGzM"
      },
      "source": [
        "## Step 1: Load a model\n",
        "\n",
        "Let's import our model into tvmc. This step converts a machine learning model from\n",
        "a supported framework into TVM's high level graph representation language called Relay.\n",
        "This is to have a unified starting point for all models in tvm. The frameworks we currently\n",
        "support are: Keras, ONNX, Tensorflow, TFLite, and PyTorch.\n",
        "\n",
        "```python\n",
        "model = tvmc.load('my_model.onnx') #Step 1: Load\n",
        "```\n",
        "If you'd like to see the Relay, you can run:\n",
        "``model.summary()``\n",
        "\n",
        "All frameworks support overwriting the input shapes with a shape_dict argument.\n",
        "For most frameworks this is optional, but for Pytorch this is necessary as\n",
        "TVM cannot automatically search for it.\n",
        "\n",
        "```python\n",
        "#model = tvmc.load('my_model.onnx', shape_dict={'input1' : [1, 2, 3, 4], 'input2' : [1, 2, 3, 4]}) #Step 1: Load + shape_dict\n",
        "```\n",
        "A suggested way to see the model's input/shape_dict is via [netron](https://netron.app/). After opening the model,\n",
        "click the first node to see the name(s) and shape(s) in the inputs section.\n",
        "\n"
      ]
    },
    {
      "cell_type": "markdown",
      "metadata": {
        "id": "9OXT16J6eGzM"
      },
      "source": [
        "## Step 2: Compile\n",
        "\n",
        "Now that our model is in Relay, our next step is to compile it to a desired\n",
        "hardware to run on. We refer to this hardware as a target. This compilation process\n",
        "translates the model from Relay into a lower-level language that the\n",
        "target machine can understand.\n",
        "\n",
        "In order to compile a model a tvm.target string is required.\n",
        "To learn more about tvm.targets and their options look at the [documentation](https://tvm.apache.org/docs/api/python/target.html).\n",
        "Some examples include:\n",
        "\n",
        "   1. cuda (Nvidia GPU)\n",
        "   2. llvm (CPU)\n",
        "   3. llvm -mcpu=cascadelake (Intel CPU)\n",
        "\n",
        "```python\n",
        "package = tvmc.compile(model, target=\"llvm\") #Step 2: Compile\n",
        "```\n",
        "The compilation step returns a package.\n",
        "\n",
        "\n"
      ]
    },
    {
      "cell_type": "markdown",
      "metadata": {
        "id": "sPN8g9XpeGzN"
      },
      "source": [
        "## Step 3: Run\n",
        "\n",
        "The compiled package can now be run on the hardware target. The device\n",
        "input options are: CPU, Cuda, CL, Metal, and Vulkan.\n",
        "\n",
        "```python\n",
        "result = tvmc.run(package, device=\"cpu\") #Step 3: Run\n",
        "```\n",
        "And you can print the results:\n",
        "``print(result)``\n",
        "\n",
        "\n"
      ]
    },
    {
      "cell_type": "markdown",
      "metadata": {
        "id": "67cjw19HeGzN"
      },
      "source": [
        "## Step 1.5: Tune [Optional & Recommended]\n",
        "\n",
        "Run speed can further be improved by tuning. This optional step uses\n",
        "machine learning to look at each operation within a model (a function) and\n",
        "tries to find a faster way to run it. We do this through a cost model, and\n",
        "benchmarking possible schedules.\n",
        "\n",
        "The target is the same as compile.\n",
        "\n",
        "```python\n",
        "tvmc.tune(model, target=\"llvm\") #Step 1.5: Optional Tune\n",
        "```\n",
        "The terminal output should look like:\n",
        "\n",
        "```python\n",
        "[Task  1/13]  Current/Best:   82.00/ 106.29 GFLOPS | Progress: (48/769) | 18.56 s\n",
        "[Task  1/13]  Current/Best:   54.47/ 113.50 GFLOPS | Progress: (240/769) | 85.36 s\n",
        ".....\n",
        "```\n",
        "There may be UserWarnings that can be ignored.\n",
        "This should make the end result faster, but it can take hours to tune.\n",
        "\n",
        "See the section 'Saving the Tuning Results' below. Be sure to pass the tuning\n",
        "results into compile if you want the results to apply.\n",
        "\n",
        "```python\n",
        "#tvmc.compile(model, target=\"llvm\", tuning_records = \"records.log\") #Step 2: Compile\n",
        "```\n"
      ]
    },
    {
      "cell_type": "markdown",
      "metadata": {
        "id": "_Oi72-oAeGzO"
      },
      "source": [
        "## Save and then start the process in the terminal:\n",
        "\n",
        "```python\n",
        "python my_tvmc_script.py\n",
        "```\n",
        "Note: Your fans may become very active\n",
        "\n",
        "\n"
      ]
    },
    {
      "cell_type": "markdown",
      "metadata": {
        "id": "IY5uxh4FeGzO"
      },
      "source": [
        "## Example results:\n",
        "\n",
        "```python\n",
        "Time elapsed for training: 18.99 s\n",
        "Execution time summary:\n",
        "mean (ms)   max (ms)   min (ms)   std (ms)\n",
        "  25.24      26.12      24.89       0.38\n",
        "\n",
        "\n",
        "Output Names:\n",
        "['output_0']\n",
        "```\n"
      ]
    },
    {
      "cell_type": "markdown",
      "metadata": {
        "id": "pZCbhemEeGzO"
      },
      "source": [
        "## Additional TVMC Functionalities\n",
        "\n",
        "\n"
      ]
    },
    {
      "cell_type": "markdown",
      "metadata": {
        "id": "rr7MJj4oeGzP"
      },
      "source": [
        "## Saving the model\n",
        "\n",
        "To make things faster for later, after loading the model (Step 1) save the Relay version.\n",
        "The model will then appear where you saved it for later in the coverted syntax.\n",
        "\n",
        "```python\n",
        "model = tvmc.load('my_model.onnx') #Step 1: Load\n",
        "model.save(desired_model_path)\n",
        "```\n"
      ]
    },
    {
      "cell_type": "markdown",
      "metadata": {
        "id": "hLdeKeVdeGzP"
      },
      "source": [
        "## Saving the package\n",
        "\n",
        "After the model has been compiled (Step 2) the package also is also saveable.\n",
        "\n",
        "```python\n",
        "tvmc.compile(model, target=\"llvm\", package_path=\"whatever\") #Step 2: Compile\n",
        "\n",
        "new_package = tvmc.TVMCPackage(package_path=\"whatever\")\n",
        "result = tvmc.run(new_package, device=\"cpu\") #Step 3: Run\n",
        "```\n"
      ]
    },
    {
      "cell_type": "markdown",
      "metadata": {
        "id": "I84GQy3meGzP"
      },
      "source": [
        "## Using Autoscheduler\n",
        "\n",
        "Use the next generation of tvm to enable potentially faster run speed results.\n",
        "The search space of the schedules is automatically generated unlike\n",
        "previously where they needed to be hand written. (Learn more:\n",
        "[1](https://tvm.apache.org/2021/03/03/intro-auto-scheduler),\n",
        "[2](https://arxiv.org/abs/2006.06762))\n",
        "\n",
        "```python\n",
        "tvmc.tune(model, target=\"llvm\", enable_autoscheduler = True)\n",
        "```\n"
      ]
    },
    {
      "cell_type": "markdown",
      "metadata": {
        "id": "XxfwB4nTeGzP"
      },
      "source": [
        "## Saving the tuning results\n",
        "\n",
        "The tuning results can be saved in a file for later reuse.\n",
        "\n",
        "Method 1:\n",
        "```python\n",
        "log_file = \"hello.json\"\n",
        "\n",
        "# Run tuning\n",
        "tvmc.tune(model, target=\"llvm\", tuning_records=log_file)\n",
        "\n",
        "...\n",
        "\n",
        "# Later run tuning and reuse tuning results\n",
        "tvmc.tune(model, target=\"llvm\", prior_records=log_file)\n",
        "```\n",
        "Method 2:\n",
        "```python\n",
        "# Run tuning\n",
        "tuning_records = tvmc.tune(model, target=\"llvm\")\n",
        "\n",
        "...\n",
        "\n",
        "# Later run tuning and reuse tuning results\n",
        "tvmc.tune(model, target=\"llvm\", prior_records=tuning_records)\n",
        "```\n"
      ]
    },
    {
      "cell_type": "markdown",
      "metadata": {
        "id": "DX5xlIcReGzQ"
      },
      "source": [
        "## Tuning a more complex model:\n",
        "\n",
        "If you notice T's printing that look like ``.........T.T..T..T..T.T.T.T.T.T.``\n",
        "increase the searching time frame:\n",
        "\n",
        "```python\n",
        "tvmc.tune(model,trials=10000,timeout=10,)\n",
        "```\n"
      ]
    },
    {
      "cell_type": "markdown",
      "metadata": {
        "id": "JBfM-wMkeGzQ"
      },
      "source": [
        "## Compiling a model for a remote device:\n",
        "\n",
        "A remote procedural call (RPC) is useful when you would like to compile for hardware\n",
        "that is not on your local machine. The tvmc methods support this.\n",
        "To set up the RPC server take a look at the 'Set up RPC Server on Device'\n",
        "section in this [document](https://tvm.apache.org/docs/tutorials/get_started/cross_compilation_and_rpc.html).\n",
        "\n",
        "Within the TVMC Script include the following and adjust accordingly:\n",
        "\n",
        "```python\n",
        "tvmc.tune(\n",
        "     model,\n",
        "     target=target, # Compilation target as string // Device to compile for\n",
        "     target_host=target_host, # Host processor\n",
        "     hostname=host_ip_address, # The IP address of an RPC tracker, used when benchmarking remotely.\n",
        "     port=port_number, # The port of the RPC tracker to connect to. Defaults to 9090.\n",
        "     rpc_key=your_key, # The RPC tracker key of the target device. Required when rpc_tracker is provided\n",
        ")\n",
        "```\n"
      ]
    }
  ],
  "metadata": {
    "kernelspec": {
      "display_name": "Python 3",
      "language": "python",
      "name": "python3"
    },
    "language_info": {
      "codemirror_mode": {
        "name": "ipython",
        "version": 3
      },
      "file_extension": ".py",
      "mimetype": "text/x-python",
      "name": "python",
      "nbconvert_exporter": "python",
      "pygments_lexer": "ipython3",
      "version": "3.9.20"
    },
    "colab": {
      "provenance": []
    }
  },
  "nbformat": 4,
  "nbformat_minor": 0
}